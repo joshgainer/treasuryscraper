{
 "cells": [
  {
   "cell_type": "code",
   "execution_count": 32,
   "metadata": {},
   "outputs": [
    {
     "name": "stderr",
     "output_type": "stream",
     "text": [
      "\n",
      "\n",
      "====== WebDriver manager ======\n",
      "Current google-chrome version is 91.0.4472\n",
      "Get LATEST driver version for 91.0.4472\n",
      "Driver [/Users/floyd/.wdm/drivers/chromedriver/mac64/91.0.4472.101/chromedriver] found in cache\n"
     ]
    }
   ],
   "source": [
    "##!pip install beautifulsoup4\n",
    "##!pip install -U selenium\n",
    "##!pip install webdriver_manager --user\n",
    "## I used the above code to install the necessary libraries for web scraping...\n",
    "\n",
    "### Below are the needed libraries/sublibraries:\n",
    "from datetime import date\n",
    "from datetime import datetime\n",
    "from selenium import webdriver\n",
    "from bs4 import BeautifulSoup\n",
    "import pandas as pd\n",
    "from selenium import webdriver\n",
    "import requests\n",
    "from webdriver_manager.chrome import ChromeDriverManager\n",
    "\n",
    "driver = webdriver.Chrome(ChromeDriverManager().install())\n",
    "content = driver.page_source\n",
    "soup = BeautifulSoup(content)"
   ]
  },
  {
   "cell_type": "code",
   "execution_count": null,
   "metadata": {},
   "outputs": [],
   "source": []
  },
  {
   "cell_type": "code",
   "execution_count": null,
   "metadata": {},
   "outputs": [],
   "source": []
  },
  {
   "cell_type": "code",
   "execution_count": null,
   "metadata": {},
   "outputs": [],
   "source": []
  },
  {
   "cell_type": "code",
   "execution_count": null,
   "metadata": {},
   "outputs": [],
   "source": []
  },
  {
   "cell_type": "code",
   "execution_count": null,
   "metadata": {},
   "outputs": [],
   "source": []
  },
  {
   "cell_type": "code",
   "execution_count": null,
   "metadata": {},
   "outputs": [],
   "source": []
  },
  {
   "cell_type": "code",
   "execution_count": 33,
   "metadata": {},
   "outputs": [
    {
     "name": "stdout",
     "output_type": "stream",
     "text": [
      "\n",
      "\t\n",
      "\t Daily Treasury Yield Curve Rates \n",
      "    \n",
      "\n",
      "\n"
     ]
    }
   ],
   "source": [
    "## driver.get(url) retrieves that url from the specified driver object\n",
    "url = 'https://www.treasury.gov/resource-center/data-chart-center/interest-rates/Pages/TextView.aspx?data=yield'\n",
    "\n",
    "## fetch raw html data\n",
    "html_content = requests.get(url).text\n",
    "soup = BeautifulSoup(html_content, \"lxml\")\n",
    "print(soup.title.text) # print the parsed data of html title only"
   ]
  },
  {
   "cell_type": "code",
   "execution_count": 34,
   "metadata": {},
   "outputs": [
    {
     "name": "stdout",
     "output_type": "stream",
     "text": [
      "['Date', '1 mo', '2 mo', '3 mo', '6 mo', '1 yr', '2 yr', '3 yr', '5 yr', '7 yr', '10 yr', '20 yr', '30 yr']\n",
      "['07/01/21', '0.05', '0.05', '0.05', '0.05', '0.09', '0.25', '0.47', '0.89', '1.24', '1.48', '2.01', '2.07']\n"
     ]
    }
   ],
   "source": [
    "## Set an object for the table in question on the website\n",
    "\n",
    "treasury_table = soup.find(\"table\", attrs={\"class\": \"t-chart\"})\n",
    "\n",
    "## Then set an object where it finds all the table heading values and rates \n",
    "\n",
    "t_table_data = treasury_table.find_all(\"tr\")\n",
    "\n",
    "## Set an empty array to be populated with the heading values of the table\n",
    "\n",
    "headings = []\n",
    "rates = []\n",
    "\n",
    "## For loop that starts at index 0 of the row and finds all the \"th\" tags in the treasury_table object\n",
    "## The \"th\" tag is just specific to this example, and there are numerous different tags to look out for.\n",
    "## The result of the for loop is to get rid of any new lines and extra spaces by using the .replace() method \n",
    "## with the .strip() method which acts to strip spaces and new lines created by any \\n commands\n",
    "\n",
    "for th in t_table_data[0].find_all(\"th\"):\n",
    "    # remove any newlines and extra spaces from left and right\n",
    "    headings.append(th.text.replace('\\n', ' ').strip())\n",
    "\n",
    "## Specify [1] index to get the next row. \n",
    "## if I had a bunch of rows i could just make a for loop that iterates from 1->x such as\n",
    "##\n",
    "##  \"for i in t_table_data: \n",
    "##        for td in t_table_data[i].find_all(\"td\"): etc.\"\n",
    "##\n",
    "## Now I can turn these into a dataframe.\n",
    "\n",
    "for td in t_table_data[1].find_all(\"td\"):\n",
    "    rates.append(td.text.replace('\\n',\" \").strip())\n",
    "\n",
    "\n",
    "\n",
    "print(headings)\n",
    "print(rates)"
   ]
  },
  {
   "cell_type": "code",
   "execution_count": 35,
   "metadata": {},
   "outputs": [
    {
     "data": {
      "text/html": [
       "<div>\n",
       "<style scoped>\n",
       "    .dataframe tbody tr th:only-of-type {\n",
       "        vertical-align: middle;\n",
       "    }\n",
       "\n",
       "    .dataframe tbody tr th {\n",
       "        vertical-align: top;\n",
       "    }\n",
       "\n",
       "    .dataframe thead th {\n",
       "        text-align: right;\n",
       "    }\n",
       "</style>\n",
       "<table border=\"1\" class=\"dataframe\">\n",
       "  <thead>\n",
       "    <tr style=\"text-align: right;\">\n",
       "      <th></th>\n",
       "      <th>Date</th>\n",
       "      <th>1 mo</th>\n",
       "      <th>2 mo</th>\n",
       "      <th>3 mo</th>\n",
       "      <th>6 mo</th>\n",
       "      <th>1 yr</th>\n",
       "      <th>2 yr</th>\n",
       "      <th>3 yr</th>\n",
       "      <th>5 yr</th>\n",
       "      <th>7 yr</th>\n",
       "      <th>10 yr</th>\n",
       "      <th>20 yr</th>\n",
       "      <th>30 yr</th>\n",
       "    </tr>\n",
       "  </thead>\n",
       "  <tbody>\n",
       "    <tr>\n",
       "      <th>0</th>\n",
       "      <td>07/01/21</td>\n",
       "      <td>0.05</td>\n",
       "      <td>0.05</td>\n",
       "      <td>0.05</td>\n",
       "      <td>0.05</td>\n",
       "      <td>0.09</td>\n",
       "      <td>0.25</td>\n",
       "      <td>0.47</td>\n",
       "      <td>0.89</td>\n",
       "      <td>1.24</td>\n",
       "      <td>1.48</td>\n",
       "      <td>2.01</td>\n",
       "      <td>2.07</td>\n",
       "    </tr>\n",
       "  </tbody>\n",
       "</table>\n",
       "</div>"
      ],
      "text/plain": [
       "       Date  1 mo  2 mo  3 mo  6 mo  1 yr  2 yr  3 yr  5 yr  7 yr 10 yr 20 yr  \\\n",
       "0  07/01/21  0.05  0.05  0.05  0.05  0.09  0.25  0.47  0.89  1.24  1.48  2.01   \n",
       "\n",
       "  30 yr  \n",
       "0  2.07  "
      ]
     },
     "execution_count": 35,
     "metadata": {},
     "output_type": "execute_result"
    }
   ],
   "source": [
    "## If you enter the data in as a list it will put it all into one column, which we don't want.\n",
    "## You can use .T to transpose the data to how we need it.\n",
    "\n",
    "yields = pd.DataFrame(data=rates).T\n",
    "yields.columns = headings\n",
    "yields"
   ]
  },
  {
   "cell_type": "code",
   "execution_count": 36,
   "metadata": {},
   "outputs": [],
   "source": [
    "## saving the data to a csv for later use...\n",
    "\n",
    "yields.to_csv(r'/Users/floyd/Projects1/yieldcurve.csv', header=True)\n"
   ]
  },
  {
   "cell_type": "code",
   "execution_count": 848,
   "metadata": {},
   "outputs": [],
   "source": [
    "## Now we have a data frame that has the yields from the most recent day. Next we will see if we can just make this\n",
    "## data frame update. We will likely have to save this to a csv and make a function out of our code."
   ]
  },
  {
   "cell_type": "code",
   "execution_count": 37,
   "metadata": {},
   "outputs": [],
   "source": [
    "import numpy as np"
   ]
  },
  {
   "cell_type": "code",
   "execution_count": 61,
   "metadata": {},
   "outputs": [],
   "source": [
    "def TreasuryScraper():\n",
    "    ## driver.get(url) retrieves that url from the specified driver object\n",
    "    global yields\n",
    "    today = date.today()\n",
    "    today = today.strftime(\"%m/%d/%y\")\n",
    "    today_obj = datetime.now()\n",
    "    url = 'https://www.treasury.gov/resource-center/data-chart-center/interest-rates/Pages/TextView.aspx?data=yield'\n",
    "    ## fetch raw html data\n",
    "    html_content = requests.get(url).text\n",
    "    soup = BeautifulSoup(html_content, \"lxml\")\n",
    "    treasury_table = soup.find(\"table\", attrs={\"class\": \"t-chart\"})\n",
    "    t_table_data = treasury_table.find_all(\"tr\")\n",
    "    headings1 = []\n",
    "    rates1 = []\n",
    "    if today_obj.weekday() >=5 :\n",
    "        outside = print(\"\\nIt's a weekend, go outside!\\n\")\n",
    "        return yields.head(), outside\n",
    "    elif yields[\"Date\"].iloc[-1] == today:\n",
    "        print(\"\\nNo updates until tomorrow! Here are the most recent yields: \\n\")\n",
    "        return yields\n",
    "    else:\n",
    "        for th in t_table_data[0].find_all(\"th\"):\n",
    "                # remove any newlines and extra spaces from left and right\n",
    "            headings1.append(th.text.replace('\\n', ' ').strip())\n",
    "        for i in np.arange(1 + len(yields.index), 2 + len(yields.index)):  ### this starts at the most recent date\n",
    "            for td in t_table_data[i].find_all(\"td\"):\n",
    "                rates1.append(td.text.replace('\\n',\" \").strip())\n",
    "        yields2 = pd.DataFrame(data=rates1).T\n",
    "        yields2.columns = headings\n",
    "        yields = pd.concat([yields, yields2], axis=0, ignore_index=True)\n",
    "        yields.to_csv(r'/Users/floyd/Projects1/yieldcurve.csv', header=True)\n",
    "        return yields\n",
    "    \n"
   ]
  },
  {
   "cell_type": "code",
   "execution_count": 62,
   "metadata": {},
   "outputs": [
    {
     "name": "stdout",
     "output_type": "stream",
     "text": [
      "\n",
      "It's a weekend, go outside!\n",
      "\n"
     ]
    },
    {
     "data": {
      "text/plain": [
       "(       Date  1 mo  2 mo  3 mo  6 mo  1 yr  2 yr  3 yr  5 yr  7 yr 10 yr 20 yr  \\\n",
       " 0  07/01/21  0.05  0.05  0.05  0.05  0.09  0.25  0.47  0.89  1.24  1.48  2.01   \n",
       " 1  07/02/21  0.05  0.05  0.05  0.05  0.08  0.24  0.45  0.86  1.19  1.44  1.98   \n",
       " \n",
       "   30 yr  \n",
       " 0  2.07  \n",
       " 1  2.05  ,\n",
       " None)"
      ]
     },
     "execution_count": 62,
     "metadata": {},
     "output_type": "execute_result"
    }
   ],
   "source": [
    "## now we will just get new treasury rates and it will break if we are up to date!\n",
    "TreasuryScraper()"
   ]
  },
  {
   "cell_type": "code",
   "execution_count": 63,
   "metadata": {},
   "outputs": [],
   "source": [
    "import matplotlib.pyplot as plt\n",
    "import numpy as np\n",
    "def YieldCurvePlot():\n",
    "    yield_curve = pd.read_csv('/Users/floyd/Projects1/yieldcurve.csv')\n",
    "    yield_curve = yield_curve.T.iloc[1:,-1]\n",
    "    yield_curve = pd.DataFrame(data=yield_curve)\n",
    "    x_length = np.array(np.arange(0,2.4, step=0.2))\n",
    "    fig, ax = plt.subplots()\n",
    "    ax.scatter(x_length, yield_curve.iloc[1:,-1].astype(np.float), color='midnightblue',\n",
    "              marker='v', linestyle=\"-\",s=20,linewidth=2, alpha=1)\n",
    "    ticks=[]\n",
    "    for i in yield_curve.index[1:]:\n",
    "        ticks.append(i)\n",
    "    plt.xticks(ticks=np.arange(0,2.4,0.2), labels=ticks, fontsize=8)\n",
    "    title = yield_curve.iloc[0,-1]\n",
    "    ax.set_title(f\"{title} Treasury Yields\", fontsize=14, color='black')\n",
    "    ax.text(1.1,0.1,\"Source: Department of Treasury\", color='midnightblue')\n",
    "    ax.set_xlabel(\"Maturity Schedule\", color='midnightblue',fontsize=12)\n",
    "    ax.set_ylabel(\"Yield (%)\", color=\"midnightblue\", fontsize=12)\n",
    "    ax.set_facecolor('azure')\n",
    "    fig.set_facecolor('gainsboro')\n",
    "    plt.savefig('/Users/floyd/Projects1/yieldcurvetoday.png')\n",
    "    plt.show()\n"
   ]
  },
  {
   "cell_type": "code",
   "execution_count": 64,
   "metadata": {},
   "outputs": [
    {
     "data": {
      "image/png": "[encoded data removed]",
      "text/plain": [
       "<Figure size 432x288 with 1 Axes>"
      ]
     },
     "metadata": {},
     "output_type": "display_data"
    }
   ],
   "source": [
    "## this function just plots the most recent treasury yields. Idk why the line didn't show up.\n",
    "\n",
    "YieldCurvePlot()"
   ]
  },
  {
   "cell_type": "code",
   "execution_count": null,
   "metadata": {},
   "outputs": [],
   "source": []
  },
  {
   "cell_type": "code",
   "execution_count": null,
   "metadata": {},
   "outputs": [],
   "source": []
  },
  {
   "cell_type": "code",
   "execution_count": null,
   "metadata": {},
   "outputs": [],
   "source": []
  }
 ],
 "metadata": {
  "kernelspec": {
   "display_name": "Python 3",
   "language": "python",
   "name": "python3"
  },
  "language_info": {
   "codemirror_mode": {
    "name": "ipython",
    "version": 3
   },
   "file_extension": ".py",
   "mimetype": "text/x-python",
   "name": "python",
   "nbconvert_exporter": "python",
   "pygments_lexer": "ipython3",
   "version": "3.7.6"
  }
 },
 "nbformat": 4,
 "nbformat_minor": 4
}
